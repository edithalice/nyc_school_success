{
 "cells": [
  {
   "cell_type": "code",
   "execution_count": 120,
   "metadata": {},
   "outputs": [],
   "source": [
    "import pandas as pd\n",
    "import numpy as np\n",
    "import seaborn as sns\n",
    "import scipy.stats as stats\n",
    "\n",
    "import statsmodels.api as sm\n",
    "from sklearn.linear_model import LinearRegression, Lasso, LassoCV, Ridge, RidgeCV\n",
    "from sklearn.model_selection import train_test_split, cross_val_score, KFold\n",
    "from sklearn.metrics import r2_score\n",
    "from yellowbrick.model_selection import feature_importances\n",
    "\n",
    "import matplotlib.pyplot as plt\n",
    "%matplotlib inline"
   ]
  },
  {
   "cell_type": "code",
   "execution_count": 121,
   "metadata": {},
   "outputs": [],
   "source": [
    "import success as scs\n",
    "import finance as fin\n",
    "import merge_sets as ms\n",
    "import utility_functions as uf"
   ]
  },
  {
   "cell_type": "markdown",
   "metadata": {},
   "source": [
    "---"
   ]
  },
  {
   "cell_type": "code",
   "execution_count": 122,
   "metadata": {},
   "outputs": [],
   "source": [
    "df = pd.read_pickle('./data/df_yeo.pkl')"
   ]
  },
  {
   "cell_type": "code",
   "execution_count": 123,
   "metadata": {},
   "outputs": [],
   "source": [
    "X = df.drop(columns='achievement')\n",
    "y = df['achievement']"
   ]
  },
  {
   "cell_type": "code",
   "execution_count": 135,
   "metadata": {},
   "outputs": [
    {
     "name": "stdout",
     "output_type": "stream",
     "text": [
      "Quantile Transform \n",
      "CV R^2: 0.41063634669895255, Lasso R^2: 0.45673522724437343, Ridge R^2: 0.4720592606355478        \n",
      "Lasso MAE: 0.4345817728352721, Ridge MAE: 0.42430120154453266\n"
     ]
    }
   ],
   "source": [
    "cv_scores = uf.kfold_val(X,y)\n",
    "lasso_scores = uf.lasso_cv(X,y)\n",
    "ridge_scores = uf.ridge_cv(X,y)\n",
    "\n",
    "print(f'CV R^2: {cv_scores[0]}, Lasso R^2: {lasso_scores[0]}, Ridge R^2: {ridge_scores[0]}\\\n",
    "        \\nLasso MAE: {lasso_scores[1]}, Ridge MAE: {ridge_scores[1]}')"
   ]
  },
  {
   "cell_type": "markdown",
   "metadata": {},
   "source": [
    "---"
   ]
  },
  {
   "cell_type": "markdown",
   "metadata": {},
   "source": [
    "At this point, I really wanted to focus on decreasing the complexity of my model. However, since a lot of the focus of my project is on understanding the impact of features, I wanted to be very careful not to drop the wrong features. Therefore, I ended up going through and dropping features one at a time, reevaluating, then iterating."
   ]
  },
  {
   "cell_type": "code",
   "execution_count": 162,
   "metadata": {
    "collapsed": true
   },
   "outputs": [
    {
     "name": "stdout",
     "output_type": "stream",
     "text": [
      "CV R^2: 0.427843, Lasso R^2: 0.420931, Ridge R^2: 0.44051\n"
     ]
    },
    {
     "data": {
      "text/html": [
       "<table class=\"simpletable\">\n",
       "<caption>OLS Regression Results</caption>\n",
       "<tr>\n",
       "  <th>Dep. Variable:</th>       <td>achievement</td>   <th>  R-squared:         </th> <td>   0.441</td> \n",
       "</tr>\n",
       "<tr>\n",
       "  <th>Model:</th>                   <td>OLS</td>       <th>  Adj. R-squared:    </th> <td>   0.435</td> \n",
       "</tr>\n",
       "<tr>\n",
       "  <th>Method:</th>             <td>Least Squares</td>  <th>  F-statistic:       </th> <td>   73.88</td> \n",
       "</tr>\n",
       "<tr>\n",
       "  <th>Date:</th>             <td>Thu, 16 Jul 2020</td> <th>  Prob (F-statistic):</th> <td>8.25e-133</td>\n",
       "</tr>\n",
       "<tr>\n",
       "  <th>Time:</th>                 <td>20:42:58</td>     <th>  Log-Likelihood:    </th> <td> -944.08</td> \n",
       "</tr>\n",
       "<tr>\n",
       "  <th>No. Observations:</th>      <td>  1139</td>      <th>  AIC:               </th> <td>   1914.</td> \n",
       "</tr>\n",
       "<tr>\n",
       "  <th>Df Residuals:</th>          <td>  1126</td>      <th>  BIC:               </th> <td>   1980.</td> \n",
       "</tr>\n",
       "<tr>\n",
       "  <th>Df Model:</th>              <td>    12</td>      <th>                     </th>     <td> </td>    \n",
       "</tr>\n",
       "<tr>\n",
       "  <th>Covariance Type:</th>      <td>nonrobust</td>    <th>                     </th>     <td> </td>    \n",
       "</tr>\n",
       "</table>\n",
       "<table class=\"simpletable\">\n",
       "<tr>\n",
       "      <td></td>         <th>coef</th>     <th>std err</th>      <th>t</th>      <th>P>|t|</th>  <th>[0.025</th>    <th>0.975]</th>  \n",
       "</tr>\n",
       "<tr>\n",
       "  <th>const</th>     <td>    3.4021</td> <td>    0.017</td> <td>  205.962</td> <td> 0.000</td> <td>    3.370</td> <td>    3.435</td>\n",
       "</tr>\n",
       "<tr>\n",
       "  <th>asian</th>     <td>    0.0808</td> <td>    0.024</td> <td>    3.381</td> <td> 0.001</td> <td>    0.034</td> <td>    0.128</td>\n",
       "</tr>\n",
       "<tr>\n",
       "  <th>black</th>     <td>   -0.1130</td> <td>    0.026</td> <td>   -4.355</td> <td> 0.000</td> <td>   -0.164</td> <td>   -0.062</td>\n",
       "</tr>\n",
       "<tr>\n",
       "  <th>ell</th>       <td>   -0.1301</td> <td>    0.028</td> <td>   -4.591</td> <td> 0.000</td> <td>   -0.186</td> <td>   -0.074</td>\n",
       "</tr>\n",
       "<tr>\n",
       "  <th>iep</th>       <td>    0.0879</td> <td>    0.023</td> <td>    3.837</td> <td> 0.000</td> <td>    0.043</td> <td>    0.133</td>\n",
       "</tr>\n",
       "<tr>\n",
       "  <th>econ_need</th> <td>    0.0995</td> <td>    0.034</td> <td>    2.917</td> <td> 0.004</td> <td>    0.033</td> <td>    0.166</td>\n",
       "</tr>\n",
       "<tr>\n",
       "  <th>attend</th>    <td>    0.8199</td> <td>    0.099</td> <td>    8.270</td> <td> 0.000</td> <td>    0.625</td> <td>    1.014</td>\n",
       "</tr>\n",
       "<tr>\n",
       "  <th>chron_abs</th> <td>    0.4284</td> <td>    0.092</td> <td>    4.654</td> <td> 0.000</td> <td>    0.248</td> <td>    0.609</td>\n",
       "</tr>\n",
       "<tr>\n",
       "  <th>overage</th>   <td>    0.3180</td> <td>    0.033</td> <td>    9.614</td> <td> 0.000</td> <td>    0.253</td> <td>    0.383</td>\n",
       "</tr>\n",
       "<tr>\n",
       "  <th>instr_rat</th> <td>    0.2203</td> <td>    0.039</td> <td>    5.703</td> <td> 0.000</td> <td>    0.144</td> <td>    0.296</td>\n",
       "</tr>\n",
       "<tr>\n",
       "  <th>tchrs_rat</th> <td>   -0.1169</td> <td>    0.031</td> <td>   -3.798</td> <td> 0.000</td> <td>   -0.177</td> <td>   -0.056</td>\n",
       "</tr>\n",
       "<tr>\n",
       "  <th>env_rat</th>   <td>    0.1484</td> <td>    0.035</td> <td>    4.219</td> <td> 0.000</td> <td>    0.079</td> <td>    0.217</td>\n",
       "</tr>\n",
       "<tr>\n",
       "  <th>K2</th>        <td>   -0.1107</td> <td>    0.022</td> <td>   -5.006</td> <td> 0.000</td> <td>   -0.154</td> <td>   -0.067</td>\n",
       "</tr>\n",
       "</table>\n",
       "<table class=\"simpletable\">\n",
       "<tr>\n",
       "  <th>Omnibus:</th>       <td> 1.963</td> <th>  Durbin-Watson:     </th> <td>   0.860</td>\n",
       "</tr>\n",
       "<tr>\n",
       "  <th>Prob(Omnibus):</th> <td> 0.375</td> <th>  Jarque-Bera (JB):  </th> <td>   1.835</td>\n",
       "</tr>\n",
       "<tr>\n",
       "  <th>Skew:</th>          <td> 0.076</td> <th>  Prob(JB):          </th> <td>   0.400</td>\n",
       "</tr>\n",
       "<tr>\n",
       "  <th>Kurtosis:</th>      <td> 3.124</td> <th>  Cond. No.          </th> <td>    17.7</td>\n",
       "</tr>\n",
       "</table><br/><br/>Warnings:<br/>[1] Standard Errors assume that the covariance matrix of the errors is correctly specified."
      ],
      "text/plain": [
       "<class 'statsmodels.iolib.summary.Summary'>\n",
       "\"\"\"\n",
       "                            OLS Regression Results                            \n",
       "==============================================================================\n",
       "Dep. Variable:            achievement   R-squared:                       0.441\n",
       "Model:                            OLS   Adj. R-squared:                  0.435\n",
       "Method:                 Least Squares   F-statistic:                     73.88\n",
       "Date:                Thu, 16 Jul 2020   Prob (F-statistic):          8.25e-133\n",
       "Time:                        20:42:58   Log-Likelihood:                -944.08\n",
       "No. Observations:                1139   AIC:                             1914.\n",
       "Df Residuals:                    1126   BIC:                             1980.\n",
       "Df Model:                          12                                         \n",
       "Covariance Type:            nonrobust                                         \n",
       "==============================================================================\n",
       "                 coef    std err          t      P>|t|      [0.025      0.975]\n",
       "------------------------------------------------------------------------------\n",
       "const          3.4021      0.017    205.962      0.000       3.370       3.435\n",
       "asian          0.0808      0.024      3.381      0.001       0.034       0.128\n",
       "black         -0.1130      0.026     -4.355      0.000      -0.164      -0.062\n",
       "ell           -0.1301      0.028     -4.591      0.000      -0.186      -0.074\n",
       "iep            0.0879      0.023      3.837      0.000       0.043       0.133\n",
       "econ_need      0.0995      0.034      2.917      0.004       0.033       0.166\n",
       "attend         0.8199      0.099      8.270      0.000       0.625       1.014\n",
       "chron_abs      0.4284      0.092      4.654      0.000       0.248       0.609\n",
       "overage        0.3180      0.033      9.614      0.000       0.253       0.383\n",
       "instr_rat      0.2203      0.039      5.703      0.000       0.144       0.296\n",
       "tchrs_rat     -0.1169      0.031     -3.798      0.000      -0.177      -0.056\n",
       "env_rat        0.1484      0.035      4.219      0.000       0.079       0.217\n",
       "K2            -0.1107      0.022     -5.006      0.000      -0.154      -0.067\n",
       "==============================================================================\n",
       "Omnibus:                        1.963   Durbin-Watson:                   0.860\n",
       "Prob(Omnibus):                  0.375   Jarque-Bera (JB):                1.835\n",
       "Skew:                           0.076   Prob(JB):                        0.400\n",
       "Kurtosis:                       3.124   Cond. No.                         17.7\n",
       "==============================================================================\n",
       "\n",
       "Warnings:\n",
       "[1] Standard Errors assume that the covariance matrix of the errors is correctly specified.\n",
       "\"\"\""
      ]
     },
     "execution_count": 162,
     "metadata": {},
     "output_type": "execute_result"
    }
   ],
   "source": [
    "# x_dropped = ['D', 'A', 'A2', 'C', 'tchrs_w_exp', 'K1', 'temp_hous', 'hra','B1', 'A4', 'K6', 'enroll', \\\n",
    "#           'C2', 'J', 'B2','C2', 'hisp','white', 'C1', 'A3', 'iep', 'K3', 'comm_rat',\\\n",
    "#           'tchr_attend', 'B', 'tchrs_rat', 'ldr_rat', 'prncpl_exp', 'K', 'C3','slf_cont', 'K5',\\\n",
    "#            'A_non_iep', 'iep', 'A1', 'asian', 'poc']\n",
    "x_dropped = ['C', 'J', 'B', 'B1', 'B2', 'C1', 'C2', 'tchrs_w_exp', 'D', 'A3', 'A4', 'K1', 'A2', 'A_non_iep', 'K',\\\n",
    "            'K6', 'white', 'A1', 'C3', 'trust_rat', 'ldr_rat', 'poc', 'tchr_attend', 'K5', 'temp_hous',\\\n",
    "            'hra', 'hisp', 'comm_rat', 'enroll', 'K5', 'prncpl_exp', 'A', 'K3', 'slf_cont', 'K4']\n",
    "\n",
    "X2 = df.drop(columns=['achievement', *x_dropped])\n",
    "\n",
    "cv_r2 = uf.kfold_val(X2, y)[0].round(6)\n",
    "lasso = uf.lasso_cv(X2, y)\n",
    "ridge = uf.ridge_cv(X2, y)\n",
    "lasso_r2 = lasso[0].round(6)\n",
    "ridge_r2 = ridge[0].round(6)\n",
    "print(f'CV R^2: {cv_r2}, Lasso R^2: {lasso_r2}, Ridge R^2: {ridge_r2}')\n",
    "\n",
    "model = sm.OLS(y, sm.add_constant(X2))\n",
    "results = model.fit()\n",
    "results.summary()"
   ]
  },
  {
   "cell_type": "markdown",
   "metadata": {},
   "source": [
    "In order to evaluate the impact a dropping any given feature, I wrote a function to iterate through the remaining columns in the model, and return the change in R^2 that would result from dropping each column. I wanted to see how various models changed as I went through this process, so I evaluated the change in R^2 for a regular linear regression, for a lasso cv, and for a ridge cv (with an optional parameter to only do 1-2 specific models). I then had the function print out the change in R^2 for a given column, based on whether on not the mean change in R^2 from all the models I was looking at was above a certain threshold (which varied throughout the process).\n",
    "\n",
    "Additionally, I wanted to be sure that dropping a column would not subsequently increase the impact of a previously dropped column, so I also wrote a function to loop through the previously dropped columns, and evaluate the change in R^2 for each model that would result from adding that column back into the model."
   ]
  },
  {
   "cell_type": "code",
   "execution_count": 153,
   "metadata": {
    "scrolled": false
   },
   "outputs": [
    {
     "name": "stdout",
     "output_type": "stream",
     "text": [
      "12\n",
      "Drop asian -> CV: -0.006248, L: , R: -0.00568, mean: -0.005964\n",
      "Drop black -> CV: -0.008882, L: , R: -0.009423, mean: -0.009153\n",
      "Drop ell -> CV: -0.008576, L: , R: -0.010471, mean: -0.009524\n",
      "Drop iep -> CV: -0.006857, L: , R: -0.007314, mean: -0.007086\n",
      "Drop econ_need -> CV: -0.001887, L: , R: -0.004227, mean: -0.003057\n",
      "Drop tchrs_rat -> CV: -0.007049, L: , R: -0.007166, mean: -0.007107\n",
      "Drop env_rat -> CV: -0.00693, L: , R: -0.008846, mean: -0.007888\n",
      "Add prncpl_exp -> CV: 0.001693, L: , R: 0.00305, mean: 0.002372\n",
      "Add K3 -> CV: 0.002415, L: , R: 0.003084, mean: 0.00275\n",
      "Add K4 -> CV: 0.002291, L: , R: 0.003725, mean: 0.003008\n"
     ]
    }
   ],
   "source": [
    "uf.drop_infl(X2, y, cv_r2, lasso_r2, ridge_r2, threshold = -0.005, models=['cv','ridge'])\n",
    "uf.add_infl(df, y, cv_r2, lasso_r2, ridge_r2, x_dropped, threshold = 0.002, models=['cv','ridge'])"
   ]
  },
  {
   "cell_type": "markdown",
   "metadata": {},
   "source": [
    "I also used the below plots as an additional metric for determining feature importance."
   ]
  },
  {
   "cell_type": "code",
   "execution_count": 163,
   "metadata": {
    "collapsed": true
   },
   "outputs": [
    {
     "name": "stderr",
     "output_type": "stream",
     "text": [
      "/opt/anaconda3/lib/python3.7/site-packages/sklearn/base.py:213: FutureWarning: From version 0.24, get_params will raise an AttributeError if a parameter cannot be retrieved as an instance attribute. Previously it would return None.\n",
      "  FutureWarning)\n"
     ]
    },
    {
     "data": {
      "image/png": "[encoded data removed]",
      "text/plain": [
       "<Figure size 432x288 with 1 Axes>"
      ]
     },
     "metadata": {
      "needs_background": "light"
     },
     "output_type": "display_data"
    },
    {
     "name": "stderr",
     "output_type": "stream",
     "text": [
      "/opt/anaconda3/lib/python3.7/site-packages/sklearn/base.py:213: FutureWarning: From version 0.24, get_params will raise an AttributeError if a parameter cannot be retrieved as an instance attribute. Previously it would return None.\n",
      "  FutureWarning)\n"
     ]
    },
    {
     "data": {
      "text/plain": [
       "FeatureImportances(absolute=True,\n",
       "                   ax=<matplotlib.axes._subplots.AxesSubplot object at 0x7f9f411d46d0>,\n",
       "                   is_fitted=False, model=None, relative=False)"
      ]
     },
     "execution_count": 163,
     "metadata": {},
     "output_type": "execute_result"
    }
   ],
   "source": [
    "feature_importances(RidgeCV(), X2, y, is_fitted=False, relative=False, absolute=True)"
   ]
  },
  {
   "cell_type": "code",
   "execution_count": 151,
   "metadata": {
    "collapsed": true
   },
   "outputs": [
    {
     "data": {
      "image/png": "[encoded data removed]",
      "text/plain": [
       "<Figure size 432x288 with 1 Axes>"
      ]
     },
     "metadata": {
      "needs_background": "light"
     },
     "output_type": "display_data"
    },
    {
     "name": "stderr",
     "output_type": "stream",
     "text": [
      "/opt/anaconda3/lib/python3.7/site-packages/sklearn/base.py:213: FutureWarning: From version 0.24, get_params will raise an AttributeError if a parameter cannot be retrieved as an instance attribute. Previously it would return None.\n",
      "  FutureWarning)\n"
     ]
    },
    {
     "data": {
      "text/plain": [
       "FeatureImportances(absolute=True,\n",
       "                   ax=<matplotlib.axes._subplots.AxesSubplot object at 0x7f9f42161f90>,\n",
       "                   model=None, relative=False)"
      ]
     },
     "execution_count": 151,
     "metadata": {},
     "output_type": "execute_result"
    }
   ],
   "source": [
    "feature_importances(LinearRegression(), X2, y, relative=False, absolute=True)"
   ]
  },
  {
   "cell_type": "code",
   "execution_count": 165,
   "metadata": {
    "collapsed": true
   },
   "outputs": [
    {
     "data": {
      "image/png": "[encoded data removed]",
      "text/plain": [
       "<Figure size 432x288 with 1 Axes>"
      ]
     },
     "metadata": {
      "needs_background": "light"
     },
     "output_type": "display_data"
    },
    {
     "name": "stderr",
     "output_type": "stream",
     "text": [
      "/opt/anaconda3/lib/python3.7/site-packages/sklearn/base.py:213: FutureWarning: From version 0.24, get_params will raise an AttributeError if a parameter cannot be retrieved as an instance attribute. Previously it would return None.\n",
      "  FutureWarning)\n"
     ]
    },
    {
     "data": {
      "text/plain": [
       "FeatureImportances(absolute=True,\n",
       "                   ax=<matplotlib.axes._subplots.AxesSubplot object at 0x7f9f43db3150>,\n",
       "                   model=None, relative=False)"
      ]
     },
     "execution_count": 165,
     "metadata": {},
     "output_type": "execute_result"
    }
   ],
   "source": [
    "feature_importances(LassoCV(), X2, y, relative=False, absolute=True)"
   ]
  },
  {
   "cell_type": "markdown",
   "metadata": {},
   "source": [
    "During this iteration process, I noticed a few interesting things. When I began, with 40 odd columns, the ridge regularization gave me the best R^2, followed by the lasso regularization, then the regular model. However, as I removed columns, the plain linear regression began to improve, while the lasso and ridge regularizations began to worsen, the lasso at a faster rate than the ridge. By the time I made it down to ~25 columns, the plain linear regression was doing better than the lasso, although the ridge still outperformed both. After that point, the plain regression began to worsen again. By the time I got down to 12 features, the ridge remained the best performing model, so that's what I ended up going with as my model of choice."
   ]
  },
  {
   "cell_type": "markdown",
   "metadata": {},
   "source": [
    "---"
   ]
  },
  {
   "cell_type": "markdown",
   "metadata": {},
   "source": [
    "Heat map of my remaining 12 features. \n",
    " *Note: Although chronic absences are highly correlted with attendance, my model suffers when I try to take either of them out. Similar issues arise with instr_rat (rigorous instruction), tchrs_rat (collaborative teachers), and env_rat (supportive environment).*"
   ]
  },
  {
   "cell_type": "code",
   "execution_count": 155,
   "metadata": {},
   "outputs": [
    {
     "data": {
      "image/png": "[encoded data removed]",
      "text/plain": [
       "<Figure size 432x288 with 2 Axes>"
      ]
     },
     "metadata": {
      "needs_background": "light"
     },
     "output_type": "display_data"
    }
   ],
   "source": [
    "df_heat = df.drop(columns=x_dropped).corr()\n",
    "mask = np.zeros_like(df_heat)\n",
    "mask[np.triu_indices_from(mask)] = True\n",
    "s = sns.plotting_context(context='talk')\n",
    "with sns.plotting_context(s):\n",
    "    sns.heatmap(df_heat, mask=mask,cmap='PiYG', vmin=-1, vmax=1)"
   ]
  },
  {
   "cell_type": "markdown",
   "metadata": {},
   "source": [
    "---"
   ]
  },
  {
   "cell_type": "markdown",
   "metadata": {},
   "source": [
    "Final model:"
   ]
  },
  {
   "cell_type": "code",
   "execution_count": 189,
   "metadata": {},
   "outputs": [],
   "source": [
    "alphavec = 10**np.linspace(-2,2,200)\n",
    "model = RidgeCV(alphas = alphavec, cv=5)\n",
    "model.fit(X, y)\n",
    "coeffs = list(zip(X.columns, model.coef_))"
   ]
  },
  {
   "cell_type": "code",
   "execution_count": 190,
   "metadata": {
    "scrolled": true
   },
   "outputs": [
    {
     "data": {
      "text/plain": [
       "[('enroll', -0.032260002020403904),\n",
       " ('asian', 0.10859254420646103),\n",
       " ('black', -0.11576849049041539),\n",
       " ('hisp', -0.04363510378314555),\n",
       " ('white', 0.008844140239977557),\n",
       " ('ell', -0.12147652321329608),\n",
       " ('iep', 0.18496171812820544),\n",
       " ('slf_cont', -0.05156742451522391),\n",
       " ('econ_need', 0.3408276725159383),\n",
       " ('temp_hous', -0.052457278073877574),\n",
       " ('hra', -0.20056267339294867),\n",
       " ('attend', 0.6990184171360846),\n",
       " ('chron_abs', 0.36528406214225506),\n",
       " ('overage', 0.22481968780155506),\n",
       " ('prncpl_exp', 0.04255405526194966),\n",
       " ('tchrs_w_exp', 0.001573581167650951),\n",
       " ('tchr_attend', 0.03098019990601746),\n",
       " ('instr_rat', 0.18250003341728838),\n",
       " ('tchrs_rat', -0.15369998933076265),\n",
       " ('env_rat', 0.1783357964990138),\n",
       " ('ldr_rat', 0.10091708542183254),\n",
       " ('comm_rat', -0.038323765552245655),\n",
       " ('trust_rat', -0.05850535140837964),\n",
       " ('A', -0.06796477494499932),\n",
       " ('B', 0.016674622004120555),\n",
       " ('C', 0.009308014593086545),\n",
       " ('A1', 0.06752198961214025),\n",
       " ('A2', 0.0254973185721701),\n",
       " ('A3', -0.04793551395021215),\n",
       " ('A4', 0.0016575503014744399),\n",
       " ('B1', 0.016674483527861068),\n",
       " ('B2', 0.0168931088015635),\n",
       " ('C1', -0.0028654197430960236),\n",
       " ('C2', -0.002710391938520979),\n",
       " ('C3', 0.04997984622623718),\n",
       " ('D', -0.07369938924408209),\n",
       " ('J', -0.07250926336057732),\n",
       " ('K1', -0.01889173717624533),\n",
       " ('K2', -0.06180878011743637),\n",
       " ('K3', 0.0688851358425671),\n",
       " ('K4', -0.05037383103893442),\n",
       " ('K5', 0.08108956644052756),\n",
       " ('K6', 0.00987014151765438),\n",
       " ('K', -0.05848641559781888),\n",
       " ('A_non_iep', 0.05093957396914596),\n",
       " ('poc', 0.05735770395130311)]"
      ]
     },
     "execution_count": 190,
     "metadata": {},
     "output_type": "execute_result"
    }
   ],
   "source": [
    "coeffs"
   ]
  },
  {
   "cell_type": "markdown",
   "metadata": {},
   "source": [
    "***"
   ]
  },
  {
   "cell_type": "markdown",
   "metadata": {},
   "source": [
    "Ok so I thought I had a deent model, but either I did something wrong or my model just sucks ass\n"
   ]
  },
  {
   "cell_type": "markdown",
   "metadata": {},
   "source": [
    "Imma fix this l8r"
   ]
  },
  {
   "cell_type": "code",
   "execution_count": 191,
   "metadata": {},
   "outputs": [],
   "source": [
    "df_test = pd.read_pickle('./data/df_yeo_test.pkl')\n",
    "X_test = df_test.drop(columns=['achievement'])#, *x_dropped])\n",
    "y_test = df_test['achievement']"
   ]
  },
  {
   "cell_type": "code",
   "execution_count": 192,
   "metadata": {},
   "outputs": [
    {
     "name": "stdout",
     "output_type": "stream",
     "text": [
      "Test data scores: r^2 - -0.6365344137611886, mae - 0.7547280077565025\n"
     ]
    }
   ],
   "source": [
    "test_pred = model.predict(X_test)\n",
    "r2 = r2_score(y_test, test_pred)\n",
    "mae = uf.calc_mae(y_test, test_pred)\n",
    "print(f'Test data scores: r^2 - {r2}, mae - {mae}')"
   ]
  },
  {
   "cell_type": "code",
   "execution_count": null,
   "metadata": {},
   "outputs": [],
   "source": []
  }
 ],
 "metadata": {
  "kernelspec": {
   "display_name": "Python 3",
   "language": "python",
   "name": "python3"
  },
  "language_info": {
   "codemirror_mode": {
    "name": "ipython",
    "version": 3
   },
   "file_extension": ".py",
   "mimetype": "text/x-python",
   "name": "python",
   "nbconvert_exporter": "python",
   "pygments_lexer": "ipython3",
   "version": "3.7.6"
  }
 },
 "nbformat": 4,
 "nbformat_minor": 4
}
