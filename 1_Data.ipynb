{
 "cells": [
  {
   "cell_type": "markdown",
   "metadata": {},
   "source": [
    "# Data Collection and Cleaning"
   ]
  },
  {
   "cell_type": "markdown",
   "metadata": {},
   "source": [
    "## Data Collection\n",
    "I acquired the data I used in this project from two primary sources.\n",
    " - The first of these I simply downloaded in the form of Excel spreadsheets from the [Quality Review](https://infohub.nyced.org/reports/school-quality/school-quality-reports-and-resources) section of the NYC Department of Education webpage. This data contains information about each school's student population, survey results, Quality Review results, and student achievement. For simplicity's sake, I chose to use the overall student achievement score from this dataset as my target variable.\n",
    " - The second of my primary data sources was the [NYSED](https://data.nysed.gov/lists.php?start=78&type=district) data site. This site contains a variety of data about each school in New York State, which is loaded onto the webpages in the form of a variety of visualizations such as tables and graphs. Although this information is available for download, it is only available in the form of .accdb or .mdb files, neither of which I was able to open with my computer. Rather than paying for a program to read the file, I chose to scrape this wepsite, as detailed below."
   ]
  },
  {
   "cell_type": "markdown",
   "metadata": {},
   "source": [
    "### Data Scraping\n",
    "In order to scrape the data I wanted from the NYSED website, I wrote the script scrape_nysed.py, which I ran from the command line. This script makes use of Selenium to navigate to the Financial Transparency webpage for each school in each of NYC's school districts, then uses BeautifulSoup to parse the html and acquire the information I want. It then saves the data for each school district in a csv file in the specified folder."
   ]
  },
  {
   "cell_type": "markdown",
   "metadata": {},
   "source": [
    "## Data Cleaning\n",
    "In order to load, clean, and combine my data, I wrote three modules (success.py, finance.py and merge_sets.py), one for each data set and a third to use string matching functions to combine the two datasets.\n",
    "\n",
    "The modules for each dataset contain code for loading and cleaning the datasets, as well as for simplifying the school name strings to make matching between sets easier (e.g. 'high school' to 'hs', 'technology' to 'tech', etc), and global variables containing lists of column names to make selecting certain kinds of features easier (e.g. a list of all columns with racial information, or economic status information, etc).\n",
    "\n",
    "The module for combining datasets uses fuzzywuzzy string matching to find, for each school name in one dataset, the closest match in the school names of the other dataset, if there exists a match that is close enough. It then uses this to merge the two datasets.\n",
    "\n",
    "Thus, I can use success.py or finance.py to create dataframes with certain subsets of the data, or I can use from merge_sets.py to create a clean and merged dataframe with a single function call."
   ]
  },
  {
   "cell_type": "code",
   "execution_count": 1,
   "metadata": {},
   "outputs": [],
   "source": [
    "import pandas as pd\n",
    "import numpy as np\n",
    "import success as scs\n",
    "import finance as fin\n",
    "import merge_sets as ms"
   ]
  },
  {
   "cell_type": "markdown",
   "metadata": {},
   "source": [
    "This creates a dataframe with data for all my desired features, as well as my target variable, from the first of my datasets. Other possible function calls include: summary_table(), which returns a dataframe from this dataset with a wide variety of descriptive data about each school, summary_numerical(), which returns only the columns from the previous table which contain numerical data, success_table(), which returns a dataframe with all of the student success metrics from this dataset (>100 columns), and target(), which returns a series with the student achievement score for each school (my chosen target variable)."
   ]
  },
  {
   "cell_type": "code",
   "execution_count": 2,
   "metadata": {},
   "outputs": [],
   "source": [
    "df_success = scs.all()"
   ]
  },
  {
   "cell_type": "markdown",
   "metadata": {},
   "source": [
    "This creates a dataframe with finance data from school districts 1-5. Calling the function with no arguments will return a dataframe with data from all collected districts (1-32). Calling with two arguments will return a dataframe from a subset of districts between the first argument and the last argument (inclusive)."
   ]
  },
  {
   "cell_type": "code",
   "execution_count": 3,
   "metadata": {},
   "outputs": [],
   "source": [
    "df_finance = fin.create_frame(5)"
   ]
  },
  {
   "cell_type": "markdown",
   "metadata": {},
   "source": [
    "This creates a dataframe with data from both datasets, containing only rows with data from both sets, and only rows with non-null student achievement scores. Calling without an argument will load all data, whereas calling with 1-2 arguments will load a subset of districts as in the above function."
   ]
  },
  {
   "cell_type": "code",
   "execution_count": 4,
   "metadata": {},
   "outputs": [],
   "source": [
    "df = ms.merge()"
   ]
  },
  {
   "cell_type": "code",
   "execution_count": 6,
   "metadata": {},
   "outputs": [
    {
     "name": "stdout",
     "output_type": "stream",
     "text": [
      "<class 'pandas.core.frame.DataFrame'>\n",
      "Index: 1461 entries, bard hs early college to tottenville hs\n",
      "Data columns (total 58 columns):\n",
      " #   Column         Non-Null Count  Dtype  \n",
      "---  ------         --------------  -----  \n",
      " 0   district       1461 non-null   object \n",
      " 1   A1             1439 non-null   float64\n",
      " 2   A2             1439 non-null   float64\n",
      " 3   A3             1439 non-null   float64\n",
      " 4   A4             1439 non-null   float64\n",
      " 5   A              1439 non-null   float64\n",
      " 6   B1             1439 non-null   float64\n",
      " 7   B2             1439 non-null   float64\n",
      " 8   B              1439 non-null   float64\n",
      " 9   C1             1439 non-null   float64\n",
      " 10  C2             1439 non-null   float64\n",
      " 11  C3             1439 non-null   float64\n",
      " 12  C              1439 non-null   float64\n",
      " 13  D              1439 non-null   float64\n",
      " 14  J              1439 non-null   float64\n",
      " 15  K1             1439 non-null   float64\n",
      " 16  K2             1439 non-null   float64\n",
      " 17  K3             1439 non-null   float64\n",
      " 18  K4             1439 non-null   float64\n",
      " 19  K5             1439 non-null   float64\n",
      " 20  K6             1439 non-null   float64\n",
      " 21  K              1439 non-null   float64\n",
      " 22  O              1439 non-null   float64\n",
      " 23  P              1439 non-null   float64\n",
      " 24  Q              1439 non-null   float64\n",
      " 25  R              1439 non-null   float64\n",
      " 26  S              1439 non-null   float64\n",
      " 27  T              1439 non-null   float64\n",
      " 28  keys           1461 non-null   object \n",
      " 29  type           1461 non-null   object \n",
      " 30  enroll         1461 non-null   float64\n",
      " 31  instr_rat      1461 non-null   float64\n",
      " 32  tchrs_rat      1461 non-null   float64\n",
      " 33  env_rat        1461 non-null   float64\n",
      " 34  ldr_rat        1461 non-null   float64\n",
      " 35  comm_rat       1461 non-null   float64\n",
      " 36  trust_rat      1461 non-null   float64\n",
      " 37  grd_5_english  312 non-null    float64\n",
      " 38  grd_5_math     313 non-null    float64\n",
      " 39  ell            1461 non-null   float64\n",
      " 40  iep            1461 non-null   float64\n",
      " 41  slf_cont       1461 non-null   float64\n",
      " 42  econ_need      1461 non-null   float64\n",
      " 43  temp_hous      1461 non-null   float64\n",
      " 44  hra            1461 non-null   float64\n",
      " 45  asian          1461 non-null   float64\n",
      " 46  black          1461 non-null   float64\n",
      " 47  hisp           1461 non-null   float64\n",
      " 48  white          1461 non-null   float64\n",
      " 49  prncpl_exp     1451 non-null   float64\n",
      " 50  tchrs_w_exp    1461 non-null   float64\n",
      " 51  attend         1461 non-null   float64\n",
      " 52  chron_abs      1461 non-null   float64\n",
      " 53  tchr_attend    1461 non-null   float64\n",
      " 54  overage        396 non-null    float64\n",
      " 55  incm_eng       708 non-null    float64\n",
      " 56  incm_math      709 non-null    float64\n",
      " 57  achievement    1461 non-null   float64\n",
      "dtypes: float64(55), object(3)\n",
      "memory usage: 673.4+ KB\n"
     ]
    }
   ],
   "source": [
    "df.info()"
   ]
  },
  {
   "cell_type": "markdown",
   "metadata": {},
   "source": [
    "*Note: Columns A1-T describe finance data. Rather than having almost 30 various complicated names, I ended up leaving them very simple but making a dictionary to call for labelling when plotting, etc:*"
   ]
  },
  {
   "cell_type": "code",
   "execution_count": 7,
   "metadata": {},
   "outputs": [
    {
     "data": {
      "text/plain": [
       "{'A1': 'Classroom Salaries',\n",
       " 'A2': 'Other Instructional Salaries',\n",
       " 'A3': 'Instructional Benefits',\n",
       " 'A4': 'Professional Development',\n",
       " 'A': 'Instructional Spending',\n",
       " 'B1': 'School Administrative Salaries',\n",
       " 'B2': 'School Administrative Benefits',\n",
       " 'B3': 'Other School Administrative Expenditures',\n",
       " 'B': 'Administration Spending',\n",
       " 'C1': 'All Other Salaries',\n",
       " 'C2': 'All Other Benefits',\n",
       " 'C3': 'All Other Non-personnel Expenditures',\n",
       " 'C': 'Other Spending',\n",
       " 'D': 'Total School Level Spending',\n",
       " 'J': 'Local/State Spending',\n",
       " 'K1': 'Federal Title I Part A',\n",
       " 'K2': 'Federal Title II Part A',\n",
       " 'K3': 'Federal Title III Part A',\n",
       " 'K4': 'Federal Title IV Part A',\n",
       " 'K5': 'IDEA',\n",
       " 'K6': 'All Other Federal',\n",
       " 'K': 'Total Federal Spending',\n",
       " 'O': 'Special Education',\n",
       " 'P': 'ELL/MLL Services',\n",
       " 'Q': 'Pupil Services',\n",
       " 'R': 'Community Schools Programs',\n",
       " 'S': 'BOCES Services',\n",
       " 'T': 'Prekindergarten'}"
      ]
     },
     "execution_count": 7,
     "metadata": {},
     "output_type": "execute_result"
    }
   ],
   "source": [
    "fin.COLUMNS_KEY"
   ]
  },
  {
   "cell_type": "markdown",
   "metadata": {},
   "source": [
    "*I also simplified the remainder of the column names for ease of calling:*"
   ]
  },
  {
   "cell_type": "code",
   "execution_count": 8,
   "metadata": {},
   "outputs": [
    {
     "data": {
      "text/plain": [
       "{'Enrollment': 'enroll',\n",
       " 'School Type': 'type',\n",
       " 'School Name': 'school',\n",
       " 'Rigorous Instruction - Percent Positive': 'instr_rat',\n",
       " 'Collaborative Teachers - Percent Positive': 'tchrs_rat',\n",
       " 'Supportive Environment - Percent Positive': 'env_rat',\n",
       " 'Effective School Leadership - Percent Positive': 'ldr_rat',\n",
       " 'Strong Family-Community Ties - Percent Positive': 'comm_rat',\n",
       " 'Trust - Percent Positive': 'trust_rat',\n",
       " 'Average Incoming ELA Proficiency (Based on 5th Grade)': 'grd_5_english',\n",
       " 'Average Incoming Math Proficiency (Based on 5th Grade)': 'grd_5_math',\n",
       " 'Percent English Language Learners': 'ell',\n",
       " 'Percent Students with Disabilities': 'iep',\n",
       " 'Percent Self-Contained': 'slf_cont',\n",
       " 'Economic Need Index': 'econ_need',\n",
       " 'Percent in Temp Housing': 'temp_hous',\n",
       " 'Percent HRA Eligible': 'hra',\n",
       " 'Percent Asian': 'asian',\n",
       " 'Percent Black': 'black',\n",
       " 'Percent Hispanic': 'hisp',\n",
       " 'Percent White': 'white',\n",
       " 'Years of principal experience at this school': 'prncpl_exp',\n",
       " 'Percent of teachers with 3 or more years of experience': 'tchrs_w_exp',\n",
       " 'Student Attendance Rate': 'attend',\n",
       " 'Percent of Students Chronically Absent': 'chron_abs',\n",
       " 'Teacher Attendance Rate': 'tchr_attend',\n",
       " 'Average Grade 8 English Proficiency': 'grd_8_english',\n",
       " 'Average Grade 8 Math Proficiency': 'grd_8_math',\n",
       " 'Percent Overage/Undercredited': 'overage',\n",
       " 'Student Achievement - Section Score': 'achievement'}"
      ]
     },
     "execution_count": 8,
     "metadata": {},
     "output_type": "execute_result"
    }
   ],
   "source": [
    "scs.COLUMNS"
   ]
  },
  {
   "cell_type": "code",
   "execution_count": 5,
   "metadata": {},
   "outputs": [],
   "source": [
    "df.to_pickle(path='./data/df_v1.pkl')"
   ]
  },
  {
   "cell_type": "markdown",
   "metadata": {},
   "source": [
    "At this point I moved on to intial modelling and feature engineering, which I have collected in a second notebook."
   ]
  }
 ],
 "metadata": {
  "kernelspec": {
   "display_name": "Python 3",
   "language": "python",
   "name": "python3"
  },
  "language_info": {
   "codemirror_mode": {
    "name": "ipython",
    "version": 3
   },
   "file_extension": ".py",
   "mimetype": "text/x-python",
   "name": "python",
   "nbconvert_exporter": "python",
   "pygments_lexer": "ipython3",
   "version": "3.7.6"
  }
 },
 "nbformat": 4,
 "nbformat_minor": 4
}
